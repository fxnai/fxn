{
 "cells": [
  {
   "attachments": {},
   "cell_type": "markdown",
   "metadata": {},
   "source": [
    "# Working with Tensors in Function\n",
    "Function has first class support for tensors, relying on `numpy.ndarray` for (de)serialization. You can create a predictor that accepts and/or returns an `ndarray`. And when working with PyTorch, you can use the `torch.from_numpy` and `tensor.numpy` functions to convert between a `numpy.ndarray` and a `torch.Tensor`."
   ]
  },
  {
   "cell_type": "code",
   "execution_count": 6,
   "metadata": {},
   "outputs": [],
   "source": [
    "from numpy import ndarray\n",
    "from numpy.linalg import norm\n",
    "\n",
    "def predict (x: ndarray) -> float:\n",
    "    \"\"\"\n",
    "    Calculate the frobenius norm of a tensor.\n",
    "\n",
    "    Parameters:\n",
    "        x (ndarray): Input array. This should be an `float32` tensor.\n",
    "\n",
    "    Returns:\n",
    "        float: Frobenius norm.\n",
    "    \"\"\"\n",
    "    return norm(x.flatten(), ord=2).item()"
   ]
  },
  {
   "attachments": {},
   "cell_type": "markdown",
   "metadata": {},
   "source": [
    "Note that we did not need to install `numpy` in our notebook. This is because Function automatically installs `numpy`."
   ]
  },
  {
   "attachments": {},
   "cell_type": "markdown",
   "metadata": {},
   "source": [
    "## Testing the Predictor"
   ]
  },
  {
   "cell_type": "code",
   "execution_count": 10,
   "metadata": {},
   "outputs": [
    {
     "name": "stdout",
     "output_type": "stream",
     "text": [
      "the frobenius norm of\n",
      "[[ 1.13551477  1.16929227 -1.41162183  1.72572682  0.83148926 -0.64235616\n",
      "   1.11420979  0.1930067 ]\n",
      " [-0.57591717 -1.32946244 -1.56933271 -0.12429535 -1.27252617 -0.86102456\n",
      "  -0.33220492  0.74338636]\n",
      " [ 0.90064141  0.38153208 -0.42469947 -1.14676789  0.90079957 -1.46072067\n",
      "  -0.01769528  0.39079021]\n",
      " [ 2.32570542 -0.22207504  1.27329206  0.8629391  -1.22689114 -0.97981879\n",
      "   2.19009084  0.76925773]\n",
      " [-0.50943817  0.40586102 -1.61996188  0.77014398  0.59764425  1.33564752\n",
      "  -0.09995537 -1.6009846 ]]\n",
      " is 6.869877884978373\n"
     ]
    }
   ],
   "source": [
    "from numpy.random import randn\n",
    "\n",
    "x = randn(5, 8)\n",
    "result = predict(x)\n",
    "print(f\"the frobenius norm of\\n{x}\\n is {result}\")"
   ]
  }
 ],
 "metadata": {
  "kernelspec": {
   "display_name": "Python 3",
   "language": "python",
   "name": "python3"
  },
  "language_info": {
   "codemirror_mode": {
    "name": "ipython",
    "version": 3
   },
   "file_extension": ".py",
   "mimetype": "text/x-python",
   "name": "python",
   "nbconvert_exporter": "python",
   "pygments_lexer": "ipython3",
   "version": "3.10.10"
  },
  "orig_nbformat": 4
 },
 "nbformat": 4,
 "nbformat_minor": 2
}
