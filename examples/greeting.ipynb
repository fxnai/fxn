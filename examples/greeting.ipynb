{
 "cells": [
  {
   "attachments": {},
   "cell_type": "markdown",
   "metadata": {},
   "source": [
    "# Greeting Sample\n",
    "This notebook provides an overview of how you can bring your own AI prediction functions, or \"predictors\", to Function. The first thing to note is this cell: if the first cell in your notebook is a Markdown cell, Function will pull it out as a README and display the cell's contents on [fxn.ai](https://fxn.ai/explore)."
   ]
  },
  {
   "attachments": {},
   "cell_type": "markdown",
   "metadata": {},
   "source": [
    "## Implementing the Predictor\n",
    "Now, let's create a prediction function that accepts a user's `name`, `age`, and `city`, then prints a greeting. First, let's create a `City` enumeration that lists a few major cities that a user could be from:"
   ]
  },
  {
   "cell_type": "code",
   "execution_count": 2,
   "metadata": {},
   "outputs": [],
   "source": [
    "from enum import Enum\n",
    "\n",
    "class City (str, Enum):\n",
    "    \"\"\"\n",
    "    A few cities we love!\n",
    "    \"\"\"\n",
    "    Accra = \"Accra\",\n",
    "    Cairo = \"Cairo\",\n",
    "    Joburg = \"Johannesburg\",\n",
    "    Lagos = \"Lagos\",\n",
    "    London = \"London\",\n",
    "    LosAngeles = \"Los Angeles\",\n",
    "    MexicoCity = \"Mexico City\",\n",
    "    Mumbai = \"Mumbai\",\n",
    "    NYC = \"New York City\",\n",
    "    SanFrancisco = \"San Francisco\",\n",
    "    Tokyo = \"Tokyo\",\n",
    "    Toronto = \"Toronto\","
   ]
  },
  {
   "attachments": {},
   "cell_type": "markdown",
   "metadata": {},
   "source": [
    "Now, let's implement the `predict` function:"
   ]
  },
  {
   "cell_type": "code",
   "execution_count": 3,
   "metadata": {},
   "outputs": [],
   "source": [
    "def predict (name: str, age: int, city: City) -> str:\n",
    "    \"\"\"\n",
    "    Say a greeting to a user.\n",
    "\n",
    "    Parameters:\n",
    "        name (str): The user's name.\n",
    "        age (int): The user's age. This should be any number between 13 and 99.\n",
    "        city (City): The user's city.\n",
    "    \"\"\"\n",
    "    return f\"{name} is {age} years old and is from {city}. Hello from Function! We hope you like it 😉\""
   ]
  },
  {
   "attachments": {},
   "cell_type": "markdown",
   "metadata": {},
   "source": [
    "## Testing the Predictor\n",
    "Testing a predictor is as simple as running your `predict` function:"
   ]
  },
  {
   "cell_type": "code",
   "execution_count": 5,
   "metadata": {},
   "outputs": [
    {
     "data": {
      "text/plain": [
       "'Tolu is 25 years old and is from Los Angeles. Hello from Function! We hope you like it 😉'"
      ]
     },
     "execution_count": 5,
     "metadata": {},
     "output_type": "execute_result"
    }
   ],
   "source": [
    "predict(\"Tolu\", 25, City.LosAngeles)"
   ]
  },
  {
   "attachments": {},
   "cell_type": "markdown",
   "metadata": {},
   "source": [
    "## Creating the Predictor on Function\n",
    "To create the predictor on Function, open a terminal and run the following command:\n",
    "```sh\n",
    "fxn create @[your Function username]/greeting /path/to/greeting.ipynb\n",
    "```"
   ]
  }
 ],
 "metadata": {
  "kernelspec": {
   "display_name": "Python 3",
   "language": "python",
   "name": "python3"
  },
  "language_info": {
   "codemirror_mode": {
    "name": "ipython",
    "version": 3
   },
   "file_extension": ".py",
   "mimetype": "text/x-python",
   "name": "python",
   "nbconvert_exporter": "python",
   "pygments_lexer": "ipython3",
   "version": "3.10.10"
  },
  "orig_nbformat": 4
 },
 "nbformat": 4,
 "nbformat_minor": 2
}
